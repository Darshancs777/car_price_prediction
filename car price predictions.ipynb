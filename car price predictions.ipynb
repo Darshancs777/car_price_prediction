{
 "cells": [
  {
   "cell_type": "code",
   "execution_count": 1,
   "id": "04c2e603",
   "metadata": {},
   "outputs": [],
   "source": [
    "#importin dependecies"
   ]
  },
  {
   "cell_type": "code",
   "execution_count": 2,
   "id": "45c9660d",
   "metadata": {},
   "outputs": [],
   "source": [
    "import pandas as pd\n",
    "import matplotlib.pyplot as plt\n",
    "import seaborn as ans\n",
    "from sklearn.model_selection import train_test_split\n",
    "from sklearn.linear_model import LinearRegression\n",
    "from sklearn.linear_model import Lasso\n",
    "from sklearn import metrics"
   ]
  },
  {
   "cell_type": "code",
   "execution_count": 3,
   "id": "98836296",
   "metadata": {},
   "outputs": [],
   "source": [
    "#loading dat from csv file to pandas"
   ]
  },
  {
   "cell_type": "code",
   "execution_count": 4,
   "id": "8da82166",
   "metadata": {},
   "outputs": [],
   "source": [
    "car_dataset=pd.read_csv(\"D:\\cardata\\car data.txt\")"
   ]
  },
  {
   "cell_type": "code",
   "execution_count": 5,
   "id": "028b3a22",
   "metadata": {},
   "outputs": [],
   "source": [
    "#To seeing first 5 row of data"
   ]
  },
  {
   "cell_type": "code",
   "execution_count": 6,
   "id": "6fabfed4",
   "metadata": {},
   "outputs": [
    {
     "data": {
      "text/html": [
       "<div>\n",
       "<style scoped>\n",
       "    .dataframe tbody tr th:only-of-type {\n",
       "        vertical-align: middle;\n",
       "    }\n",
       "\n",
       "    .dataframe tbody tr th {\n",
       "        vertical-align: top;\n",
       "    }\n",
       "\n",
       "    .dataframe thead th {\n",
       "        text-align: right;\n",
       "    }\n",
       "</style>\n",
       "<table border=\"1\" class=\"dataframe\">\n",
       "  <thead>\n",
       "    <tr style=\"text-align: right;\">\n",
       "      <th></th>\n",
       "      <th>car_ID</th>\n",
       "      <th>symboling</th>\n",
       "      <th>CarName</th>\n",
       "      <th>fueltype</th>\n",
       "      <th>aspiration</th>\n",
       "      <th>doornumber</th>\n",
       "      <th>carbody</th>\n",
       "      <th>drivewheel</th>\n",
       "      <th>enginelocation</th>\n",
       "      <th>wheelbase</th>\n",
       "      <th>...</th>\n",
       "      <th>enginesize</th>\n",
       "      <th>fuelsystem</th>\n",
       "      <th>boreratio</th>\n",
       "      <th>stroke</th>\n",
       "      <th>compressionratio</th>\n",
       "      <th>horsepower</th>\n",
       "      <th>peakrpm</th>\n",
       "      <th>citympg</th>\n",
       "      <th>highwaympg</th>\n",
       "      <th>price</th>\n",
       "    </tr>\n",
       "  </thead>\n",
       "  <tbody>\n",
       "    <tr>\n",
       "      <th>0</th>\n",
       "      <td>1</td>\n",
       "      <td>3</td>\n",
       "      <td>alfa-romero giulia</td>\n",
       "      <td>gas</td>\n",
       "      <td>std</td>\n",
       "      <td>two</td>\n",
       "      <td>convertible</td>\n",
       "      <td>rwd</td>\n",
       "      <td>front</td>\n",
       "      <td>88.6</td>\n",
       "      <td>...</td>\n",
       "      <td>130</td>\n",
       "      <td>mpfi</td>\n",
       "      <td>3.47</td>\n",
       "      <td>2.68</td>\n",
       "      <td>9.0</td>\n",
       "      <td>111</td>\n",
       "      <td>5000</td>\n",
       "      <td>21</td>\n",
       "      <td>27</td>\n",
       "      <td>13495.0</td>\n",
       "    </tr>\n",
       "    <tr>\n",
       "      <th>1</th>\n",
       "      <td>2</td>\n",
       "      <td>3</td>\n",
       "      <td>alfa-romero stelvio</td>\n",
       "      <td>gas</td>\n",
       "      <td>std</td>\n",
       "      <td>two</td>\n",
       "      <td>convertible</td>\n",
       "      <td>rwd</td>\n",
       "      <td>front</td>\n",
       "      <td>88.6</td>\n",
       "      <td>...</td>\n",
       "      <td>130</td>\n",
       "      <td>mpfi</td>\n",
       "      <td>3.47</td>\n",
       "      <td>2.68</td>\n",
       "      <td>9.0</td>\n",
       "      <td>111</td>\n",
       "      <td>5000</td>\n",
       "      <td>21</td>\n",
       "      <td>27</td>\n",
       "      <td>16500.0</td>\n",
       "    </tr>\n",
       "    <tr>\n",
       "      <th>2</th>\n",
       "      <td>3</td>\n",
       "      <td>1</td>\n",
       "      <td>alfa-romero Quadrifoglio</td>\n",
       "      <td>gas</td>\n",
       "      <td>std</td>\n",
       "      <td>two</td>\n",
       "      <td>hatchback</td>\n",
       "      <td>rwd</td>\n",
       "      <td>front</td>\n",
       "      <td>94.5</td>\n",
       "      <td>...</td>\n",
       "      <td>152</td>\n",
       "      <td>mpfi</td>\n",
       "      <td>2.68</td>\n",
       "      <td>3.47</td>\n",
       "      <td>9.0</td>\n",
       "      <td>154</td>\n",
       "      <td>5000</td>\n",
       "      <td>19</td>\n",
       "      <td>26</td>\n",
       "      <td>16500.0</td>\n",
       "    </tr>\n",
       "    <tr>\n",
       "      <th>3</th>\n",
       "      <td>4</td>\n",
       "      <td>2</td>\n",
       "      <td>audi 100 ls</td>\n",
       "      <td>gas</td>\n",
       "      <td>std</td>\n",
       "      <td>four</td>\n",
       "      <td>sedan</td>\n",
       "      <td>fwd</td>\n",
       "      <td>front</td>\n",
       "      <td>99.8</td>\n",
       "      <td>...</td>\n",
       "      <td>109</td>\n",
       "      <td>mpfi</td>\n",
       "      <td>3.19</td>\n",
       "      <td>3.40</td>\n",
       "      <td>10.0</td>\n",
       "      <td>102</td>\n",
       "      <td>5500</td>\n",
       "      <td>24</td>\n",
       "      <td>30</td>\n",
       "      <td>13950.0</td>\n",
       "    </tr>\n",
       "    <tr>\n",
       "      <th>4</th>\n",
       "      <td>5</td>\n",
       "      <td>2</td>\n",
       "      <td>audi 100ls</td>\n",
       "      <td>gas</td>\n",
       "      <td>std</td>\n",
       "      <td>four</td>\n",
       "      <td>sedan</td>\n",
       "      <td>4wd</td>\n",
       "      <td>front</td>\n",
       "      <td>99.4</td>\n",
       "      <td>...</td>\n",
       "      <td>136</td>\n",
       "      <td>mpfi</td>\n",
       "      <td>3.19</td>\n",
       "      <td>3.40</td>\n",
       "      <td>8.0</td>\n",
       "      <td>115</td>\n",
       "      <td>5500</td>\n",
       "      <td>18</td>\n",
       "      <td>22</td>\n",
       "      <td>17450.0</td>\n",
       "    </tr>\n",
       "  </tbody>\n",
       "</table>\n",
       "<p>5 rows × 26 columns</p>\n",
       "</div>"
      ],
      "text/plain": [
       "   car_ID  symboling                   CarName fueltype aspiration doornumber  \\\n",
       "0       1          3        alfa-romero giulia      gas        std        two   \n",
       "1       2          3       alfa-romero stelvio      gas        std        two   \n",
       "2       3          1  alfa-romero Quadrifoglio      gas        std        two   \n",
       "3       4          2               audi 100 ls      gas        std       four   \n",
       "4       5          2                audi 100ls      gas        std       four   \n",
       "\n",
       "       carbody drivewheel enginelocation  wheelbase  ...  enginesize  \\\n",
       "0  convertible        rwd          front       88.6  ...         130   \n",
       "1  convertible        rwd          front       88.6  ...         130   \n",
       "2    hatchback        rwd          front       94.5  ...         152   \n",
       "3        sedan        fwd          front       99.8  ...         109   \n",
       "4        sedan        4wd          front       99.4  ...         136   \n",
       "\n",
       "   fuelsystem  boreratio  stroke compressionratio horsepower  peakrpm citympg  \\\n",
       "0        mpfi       3.47    2.68              9.0        111     5000      21   \n",
       "1        mpfi       3.47    2.68              9.0        111     5000      21   \n",
       "2        mpfi       2.68    3.47              9.0        154     5000      19   \n",
       "3        mpfi       3.19    3.40             10.0        102     5500      24   \n",
       "4        mpfi       3.19    3.40              8.0        115     5500      18   \n",
       "\n",
       "   highwaympg    price  \n",
       "0          27  13495.0  \n",
       "1          27  16500.0  \n",
       "2          26  16500.0  \n",
       "3          30  13950.0  \n",
       "4          22  17450.0  \n",
       "\n",
       "[5 rows x 26 columns]"
      ]
     },
     "execution_count": 6,
     "metadata": {},
     "output_type": "execute_result"
    }
   ],
   "source": [
    "car_dataset.head()"
   ]
  },
  {
   "cell_type": "code",
   "execution_count": 7,
   "id": "70031a1c",
   "metadata": {},
   "outputs": [
    {
     "data": {
      "text/plain": [
       "(205, 26)"
      ]
     },
     "execution_count": 7,
     "metadata": {},
     "output_type": "execute_result"
    }
   ],
   "source": [
    "#checking number of rows and col\n",
    "car_dataset.shape"
   ]
  },
  {
   "cell_type": "code",
   "execution_count": 8,
   "id": "393fb4c9",
   "metadata": {},
   "outputs": [
    {
     "name": "stdout",
     "output_type": "stream",
     "text": [
      "<class 'pandas.core.frame.DataFrame'>\n",
      "RangeIndex: 205 entries, 0 to 204\n",
      "Data columns (total 26 columns):\n",
      " #   Column            Non-Null Count  Dtype  \n",
      "---  ------            --------------  -----  \n",
      " 0   car_ID            205 non-null    int64  \n",
      " 1   symboling         205 non-null    int64  \n",
      " 2   CarName           205 non-null    object \n",
      " 3   fueltype          205 non-null    object \n",
      " 4   aspiration        205 non-null    object \n",
      " 5   doornumber        205 non-null    object \n",
      " 6   carbody           205 non-null    object \n",
      " 7   drivewheel        205 non-null    object \n",
      " 8   enginelocation    205 non-null    object \n",
      " 9   wheelbase         205 non-null    float64\n",
      " 10  carlength         205 non-null    float64\n",
      " 11  carwidth          205 non-null    float64\n",
      " 12  carheight         205 non-null    float64\n",
      " 13  curbweight        205 non-null    int64  \n",
      " 14  enginetype        205 non-null    object \n",
      " 15  cylindernumber    205 non-null    object \n",
      " 16  enginesize        205 non-null    int64  \n",
      " 17  fuelsystem        205 non-null    object \n",
      " 18  boreratio         205 non-null    float64\n",
      " 19  stroke            205 non-null    float64\n",
      " 20  compressionratio  205 non-null    float64\n",
      " 21  horsepower        205 non-null    int64  \n",
      " 22  peakrpm           205 non-null    int64  \n",
      " 23  citympg           205 non-null    int64  \n",
      " 24  highwaympg        205 non-null    int64  \n",
      " 25  price             205 non-null    float64\n",
      "dtypes: float64(8), int64(8), object(10)\n",
      "memory usage: 41.8+ KB\n"
     ]
    }
   ],
   "source": [
    "#getting infromations\n",
    "car_dataset.info()"
   ]
  },
  {
   "cell_type": "code",
   "execution_count": 9,
   "id": "bccca2f4",
   "metadata": {},
   "outputs": [
    {
     "data": {
      "text/plain": [
       "car_ID              0\n",
       "symboling           0\n",
       "CarName             0\n",
       "fueltype            0\n",
       "aspiration          0\n",
       "doornumber          0\n",
       "carbody             0\n",
       "drivewheel          0\n",
       "enginelocation      0\n",
       "wheelbase           0\n",
       "carlength           0\n",
       "carwidth            0\n",
       "carheight           0\n",
       "curbweight          0\n",
       "enginetype          0\n",
       "cylindernumber      0\n",
       "enginesize          0\n",
       "fuelsystem          0\n",
       "boreratio           0\n",
       "stroke              0\n",
       "compressionratio    0\n",
       "horsepower          0\n",
       "peakrpm             0\n",
       "citympg             0\n",
       "highwaympg          0\n",
       "price               0\n",
       "dtype: int64"
      ]
     },
     "execution_count": 9,
     "metadata": {},
     "output_type": "execute_result"
    }
   ],
   "source": [
    "#checing missing value\n",
    "car_dataset.isnull().sum()"
   ]
  },
  {
   "cell_type": "code",
   "execution_count": 10,
   "id": "6f130aee",
   "metadata": {
    "scrolled": true
   },
   "outputs": [
    {
     "name": "stdout",
     "output_type": "stream",
     "text": [
      "gas       185\n",
      "diesel     20\n",
      "Name: fueltype, dtype: int64\n",
      "sedan          96\n",
      "hatchback      70\n",
      "wagon          25\n",
      "hardtop         8\n",
      "convertible     6\n",
      "Name: carbody, dtype: int64\n",
      "fwd    120\n",
      "rwd     76\n",
      "4wd      9\n",
      "Name: drivewheel, dtype: int64\n",
      "std      168\n",
      "turbo     37\n",
      "Name: aspiration, dtype: int64\n"
     ]
    }
   ],
   "source": [
    "#checking distrubition on catogaries\n",
    "print(car_dataset.fueltype.value_counts())\n",
    "print(car_dataset.carbody.value_counts())\n",
    "print(car_dataset.drivewheel.value_counts())\n",
    "print(car_dataset.aspiration.value_counts())"
   ]
  },
  {
   "cell_type": "code",
   "execution_count": 11,
   "id": "3e5bd5bd",
   "metadata": {},
   "outputs": [],
   "source": [
    "#encoding catogories data"
   ]
  },
  {
   "cell_type": "code",
   "execution_count": 40,
   "id": "b931aca1",
   "metadata": {},
   "outputs": [],
   "source": [
    "#encoding fueltype\n",
    "car_dataset.replace({'fueltype':{'diesel':0,'gas':1}},inplace=True)\n",
    "\n",
    "#encoding carbody\n",
    "car_dataset.replace({'carbody':{'sedan':0,'hatchback':1,'wagon':2,'hardtop':3,'convertible':4}},inplace=True)\n",
    "\n",
    "#encoding drivewheel\n",
    "car_dataset.replace({'drivewheel':{'fwd':0,'rwd':1,'4wd':2}},inplace=True)\n",
    "\n",
    "car_dataset.replace({'aspiration':{'std':0,'turbo':1}},inplace=True)\n",
    "car_dataset.replace({'doornumber':{'two':0,'four':1}},inplace=True)\n",
    "car_dataset.replace({'enginelocation':{'front':0,'rear':1}},inplace=True)\n",
    "car_dataset.replace({'enginetype':{' dohc':0,'ohcv':1,'ohc':2}},inplace=True)"
   ]
  },
  {
   "cell_type": "code",
   "execution_count": 41,
   "id": "c2f07899",
   "metadata": {},
   "outputs": [
    {
     "data": {
      "text/plain": [
       "(205, 26)"
      ]
     },
     "execution_count": 41,
     "metadata": {},
     "output_type": "execute_result"
    }
   ],
   "source": [
    "car_dataset.shape"
   ]
  },
  {
   "cell_type": "code",
   "execution_count": 42,
   "id": "09dc6599",
   "metadata": {},
   "outputs": [
    {
     "data": {
      "text/html": [
       "<div>\n",
       "<style scoped>\n",
       "    .dataframe tbody tr th:only-of-type {\n",
       "        vertical-align: middle;\n",
       "    }\n",
       "\n",
       "    .dataframe tbody tr th {\n",
       "        vertical-align: top;\n",
       "    }\n",
       "\n",
       "    .dataframe thead th {\n",
       "        text-align: right;\n",
       "    }\n",
       "</style>\n",
       "<table border=\"1\" class=\"dataframe\">\n",
       "  <thead>\n",
       "    <tr style=\"text-align: right;\">\n",
       "      <th></th>\n",
       "      <th>car_ID</th>\n",
       "      <th>symboling</th>\n",
       "      <th>CarName</th>\n",
       "      <th>fueltype</th>\n",
       "      <th>aspiration</th>\n",
       "      <th>doornumber</th>\n",
       "      <th>carbody</th>\n",
       "      <th>drivewheel</th>\n",
       "      <th>enginelocation</th>\n",
       "      <th>wheelbase</th>\n",
       "      <th>...</th>\n",
       "      <th>enginesize</th>\n",
       "      <th>fuelsystem</th>\n",
       "      <th>boreratio</th>\n",
       "      <th>stroke</th>\n",
       "      <th>compressionratio</th>\n",
       "      <th>horsepower</th>\n",
       "      <th>peakrpm</th>\n",
       "      <th>citympg</th>\n",
       "      <th>highwaympg</th>\n",
       "      <th>price</th>\n",
       "    </tr>\n",
       "  </thead>\n",
       "  <tbody>\n",
       "    <tr>\n",
       "      <th>0</th>\n",
       "      <td>1</td>\n",
       "      <td>3</td>\n",
       "      <td>alfa-romero giulia</td>\n",
       "      <td>1</td>\n",
       "      <td>0</td>\n",
       "      <td>0</td>\n",
       "      <td>4</td>\n",
       "      <td>1</td>\n",
       "      <td>0</td>\n",
       "      <td>88.6</td>\n",
       "      <td>...</td>\n",
       "      <td>130</td>\n",
       "      <td>mpfi</td>\n",
       "      <td>3.47</td>\n",
       "      <td>2.68</td>\n",
       "      <td>9.0</td>\n",
       "      <td>111</td>\n",
       "      <td>5000</td>\n",
       "      <td>21</td>\n",
       "      <td>27</td>\n",
       "      <td>13495.0</td>\n",
       "    </tr>\n",
       "    <tr>\n",
       "      <th>1</th>\n",
       "      <td>2</td>\n",
       "      <td>3</td>\n",
       "      <td>alfa-romero stelvio</td>\n",
       "      <td>1</td>\n",
       "      <td>0</td>\n",
       "      <td>0</td>\n",
       "      <td>4</td>\n",
       "      <td>1</td>\n",
       "      <td>0</td>\n",
       "      <td>88.6</td>\n",
       "      <td>...</td>\n",
       "      <td>130</td>\n",
       "      <td>mpfi</td>\n",
       "      <td>3.47</td>\n",
       "      <td>2.68</td>\n",
       "      <td>9.0</td>\n",
       "      <td>111</td>\n",
       "      <td>5000</td>\n",
       "      <td>21</td>\n",
       "      <td>27</td>\n",
       "      <td>16500.0</td>\n",
       "    </tr>\n",
       "    <tr>\n",
       "      <th>2</th>\n",
       "      <td>3</td>\n",
       "      <td>1</td>\n",
       "      <td>alfa-romero Quadrifoglio</td>\n",
       "      <td>1</td>\n",
       "      <td>0</td>\n",
       "      <td>0</td>\n",
       "      <td>1</td>\n",
       "      <td>1</td>\n",
       "      <td>0</td>\n",
       "      <td>94.5</td>\n",
       "      <td>...</td>\n",
       "      <td>152</td>\n",
       "      <td>mpfi</td>\n",
       "      <td>2.68</td>\n",
       "      <td>3.47</td>\n",
       "      <td>9.0</td>\n",
       "      <td>154</td>\n",
       "      <td>5000</td>\n",
       "      <td>19</td>\n",
       "      <td>26</td>\n",
       "      <td>16500.0</td>\n",
       "    </tr>\n",
       "    <tr>\n",
       "      <th>3</th>\n",
       "      <td>4</td>\n",
       "      <td>2</td>\n",
       "      <td>audi 100 ls</td>\n",
       "      <td>1</td>\n",
       "      <td>0</td>\n",
       "      <td>1</td>\n",
       "      <td>0</td>\n",
       "      <td>0</td>\n",
       "      <td>0</td>\n",
       "      <td>99.8</td>\n",
       "      <td>...</td>\n",
       "      <td>109</td>\n",
       "      <td>mpfi</td>\n",
       "      <td>3.19</td>\n",
       "      <td>3.40</td>\n",
       "      <td>10.0</td>\n",
       "      <td>102</td>\n",
       "      <td>5500</td>\n",
       "      <td>24</td>\n",
       "      <td>30</td>\n",
       "      <td>13950.0</td>\n",
       "    </tr>\n",
       "    <tr>\n",
       "      <th>4</th>\n",
       "      <td>5</td>\n",
       "      <td>2</td>\n",
       "      <td>audi 100ls</td>\n",
       "      <td>1</td>\n",
       "      <td>0</td>\n",
       "      <td>1</td>\n",
       "      <td>0</td>\n",
       "      <td>2</td>\n",
       "      <td>0</td>\n",
       "      <td>99.4</td>\n",
       "      <td>...</td>\n",
       "      <td>136</td>\n",
       "      <td>mpfi</td>\n",
       "      <td>3.19</td>\n",
       "      <td>3.40</td>\n",
       "      <td>8.0</td>\n",
       "      <td>115</td>\n",
       "      <td>5500</td>\n",
       "      <td>18</td>\n",
       "      <td>22</td>\n",
       "      <td>17450.0</td>\n",
       "    </tr>\n",
       "  </tbody>\n",
       "</table>\n",
       "<p>5 rows × 26 columns</p>\n",
       "</div>"
      ],
      "text/plain": [
       "   car_ID  symboling                   CarName  fueltype  aspiration  \\\n",
       "0       1          3        alfa-romero giulia         1           0   \n",
       "1       2          3       alfa-romero stelvio         1           0   \n",
       "2       3          1  alfa-romero Quadrifoglio         1           0   \n",
       "3       4          2               audi 100 ls         1           0   \n",
       "4       5          2                audi 100ls         1           0   \n",
       "\n",
       "   doornumber  carbody  drivewheel  enginelocation  wheelbase  ...  \\\n",
       "0           0        4           1               0       88.6  ...   \n",
       "1           0        4           1               0       88.6  ...   \n",
       "2           0        1           1               0       94.5  ...   \n",
       "3           1        0           0               0       99.8  ...   \n",
       "4           1        0           2               0       99.4  ...   \n",
       "\n",
       "   enginesize  fuelsystem  boreratio  stroke compressionratio horsepower  \\\n",
       "0         130        mpfi       3.47    2.68              9.0        111   \n",
       "1         130        mpfi       3.47    2.68              9.0        111   \n",
       "2         152        mpfi       2.68    3.47              9.0        154   \n",
       "3         109        mpfi       3.19    3.40             10.0        102   \n",
       "4         136        mpfi       3.19    3.40              8.0        115   \n",
       "\n",
       "   peakrpm citympg  highwaympg    price  \n",
       "0     5000      21          27  13495.0  \n",
       "1     5000      21          27  16500.0  \n",
       "2     5000      19          26  16500.0  \n",
       "3     5500      24          30  13950.0  \n",
       "4     5500      18          22  17450.0  \n",
       "\n",
       "[5 rows x 26 columns]"
      ]
     },
     "execution_count": 42,
     "metadata": {},
     "output_type": "execute_result"
    }
   ],
   "source": [
    "car_dataset.head()"
   ]
  },
  {
   "cell_type": "code",
   "execution_count": 69,
   "id": "4ec749af",
   "metadata": {},
   "outputs": [],
   "source": [
    "#splitting data into traget\n",
    "x=car_dataSset.drop(['CarName','price'],axis=1)\n",
    "y=car_dataSet['price']"
   ]
  },
  {
   "cell_type": "code",
   "execution_count": 70,
   "id": "6b6316ab",
   "metadata": {},
   "outputs": [
    {
     "name": "stdout",
     "output_type": "stream",
     "text": [
      "     car_ID  symboling  fueltype  aspiration  doornumber  carbody  drivewheel  \\\n",
      "0         1          3         1           0           0        4           1   \n",
      "1         2          3         1           0           0        4           1   \n",
      "2         3          1         1           0           0        1           1   \n",
      "3         4          2         1           0           1        0           0   \n",
      "4         5          2         1           0           1        0           2   \n",
      "..      ...        ...       ...         ...         ...      ...         ...   \n",
      "200     201         -1         1           0           1        0           1   \n",
      "201     202         -1         1           1           1        0           1   \n",
      "202     203         -1         1           0           1        0           1   \n",
      "203     204         -1         0           1           1        0           1   \n",
      "204     205         -1         1           1           1        0           1   \n",
      "\n",
      "     enginelocation  wheelbase  carlength  ...  carheight  curbweight  \\\n",
      "0                 0       88.6      168.8  ...       48.8        2548   \n",
      "1                 0       88.6      168.8  ...       48.8        2548   \n",
      "2                 0       94.5      171.2  ...       52.4        2823   \n",
      "3                 0       99.8      176.6  ...       54.3        2337   \n",
      "4                 0       99.4      176.6  ...       54.3        2824   \n",
      "..              ...        ...        ...  ...        ...         ...   \n",
      "200               0      109.1      188.8  ...       55.5        2952   \n",
      "201               0      109.1      188.8  ...       55.5        3049   \n",
      "202               0      109.1      188.8  ...       55.5        3012   \n",
      "203               0      109.1      188.8  ...       55.5        3217   \n",
      "204               0      109.1      188.8  ...       55.5        3062   \n",
      "\n",
      "     enginesize  boreratio  stroke  compressionratio  horsepower  peakrpm  \\\n",
      "0           130       3.47    2.68               9.0         111     5000   \n",
      "1           130       3.47    2.68               9.0         111     5000   \n",
      "2           152       2.68    3.47               9.0         154     5000   \n",
      "3           109       3.19    3.40              10.0         102     5500   \n",
      "4           136       3.19    3.40               8.0         115     5500   \n",
      "..          ...        ...     ...               ...         ...      ...   \n",
      "200         141       3.78    3.15               9.5         114     5400   \n",
      "201         141       3.78    3.15               8.7         160     5300   \n",
      "202         173       3.58    2.87               8.8         134     5500   \n",
      "203         145       3.01    3.40              23.0         106     4800   \n",
      "204         141       3.78    3.15               9.5         114     5400   \n",
      "\n",
      "     citympg  highwaympg  \n",
      "0         21          27  \n",
      "1         21          27  \n",
      "2         19          26  \n",
      "3         24          30  \n",
      "4         18          22  \n",
      "..       ...         ...  \n",
      "200       23          28  \n",
      "201       19          25  \n",
      "202       18          23  \n",
      "203       26          27  \n",
      "204       19          25  \n",
      "\n",
      "[205 rows x 21 columns]\n"
     ]
    }
   ],
   "source": [
    "print(x)"
   ]
  },
  {
   "cell_type": "code",
   "execution_count": 71,
   "id": "1e6ac407",
   "metadata": {},
   "outputs": [
    {
     "name": "stdout",
     "output_type": "stream",
     "text": [
      "0      13495.0\n",
      "1      16500.0\n",
      "2      16500.0\n",
      "3      13950.0\n",
      "4      17450.0\n",
      "        ...   \n",
      "200    16845.0\n",
      "201    19045.0\n",
      "202    21485.0\n",
      "203    22470.0\n",
      "204    22625.0\n",
      "Name: price, Length: 205, dtype: float64\n"
     ]
    }
   ],
   "source": [
    "print(y)"
   ]
  },
  {
   "cell_type": "code",
   "execution_count": 72,
   "id": "e1bc558b",
   "metadata": {},
   "outputs": [],
   "source": [
    "#spliting data into train and testing"
   ]
  },
  {
   "cell_type": "code",
   "execution_count": 73,
   "id": "8a1822df",
   "metadata": {},
   "outputs": [],
   "source": [
    "x_test,x_train,y_test,y_train=train_test_split(x,y,test_size=0.1,random_state=2)"
   ]
  },
  {
   "cell_type": "code",
   "execution_count": 74,
   "id": "6bf0c45f",
   "metadata": {},
   "outputs": [],
   "source": [
    "#Model traing\n",
    "#1.linear regression"
   ]
  },
  {
   "cell_type": "code",
   "execution_count": 75,
   "id": "01049455",
   "metadata": {},
   "outputs": [],
   "source": [
    "#loading linear regression\n",
    "lin_reg=LinearRegression()"
   ]
  },
  {
   "cell_type": "code",
   "execution_count": 76,
   "id": "598a64b6",
   "metadata": {},
   "outputs": [
    {
     "data": {
      "text/html": [
       "<div>\n",
       "<style scoped>\n",
       "    .dataframe tbody tr th:only-of-type {\n",
       "        vertical-align: middle;\n",
       "    }\n",
       "\n",
       "    .dataframe tbody tr th {\n",
       "        vertical-align: top;\n",
       "    }\n",
       "\n",
       "    .dataframe thead th {\n",
       "        text-align: right;\n",
       "    }\n",
       "</style>\n",
       "<table border=\"1\" class=\"dataframe\">\n",
       "  <thead>\n",
       "    <tr style=\"text-align: right;\">\n",
       "      <th></th>\n",
       "      <th>car_ID</th>\n",
       "      <th>symboling</th>\n",
       "      <th>CarName</th>\n",
       "      <th>fueltype</th>\n",
       "      <th>aspiration</th>\n",
       "      <th>doornumber</th>\n",
       "      <th>carbody</th>\n",
       "      <th>drivewheel</th>\n",
       "      <th>enginelocation</th>\n",
       "      <th>wheelbase</th>\n",
       "      <th>...</th>\n",
       "      <th>enginesize</th>\n",
       "      <th>fuelsystem</th>\n",
       "      <th>boreratio</th>\n",
       "      <th>stroke</th>\n",
       "      <th>compressionratio</th>\n",
       "      <th>horsepower</th>\n",
       "      <th>peakrpm</th>\n",
       "      <th>citympg</th>\n",
       "      <th>highwaympg</th>\n",
       "      <th>price</th>\n",
       "    </tr>\n",
       "  </thead>\n",
       "  <tbody>\n",
       "    <tr>\n",
       "      <th>0</th>\n",
       "      <td>1</td>\n",
       "      <td>3</td>\n",
       "      <td>alfa-romero giulia</td>\n",
       "      <td>1</td>\n",
       "      <td>0</td>\n",
       "      <td>0</td>\n",
       "      <td>4</td>\n",
       "      <td>1</td>\n",
       "      <td>0</td>\n",
       "      <td>88.6</td>\n",
       "      <td>...</td>\n",
       "      <td>130</td>\n",
       "      <td>mpfi</td>\n",
       "      <td>3.47</td>\n",
       "      <td>2.68</td>\n",
       "      <td>9.0</td>\n",
       "      <td>111</td>\n",
       "      <td>5000</td>\n",
       "      <td>21</td>\n",
       "      <td>27</td>\n",
       "      <td>13495.0</td>\n",
       "    </tr>\n",
       "    <tr>\n",
       "      <th>1</th>\n",
       "      <td>2</td>\n",
       "      <td>3</td>\n",
       "      <td>alfa-romero stelvio</td>\n",
       "      <td>1</td>\n",
       "      <td>0</td>\n",
       "      <td>0</td>\n",
       "      <td>4</td>\n",
       "      <td>1</td>\n",
       "      <td>0</td>\n",
       "      <td>88.6</td>\n",
       "      <td>...</td>\n",
       "      <td>130</td>\n",
       "      <td>mpfi</td>\n",
       "      <td>3.47</td>\n",
       "      <td>2.68</td>\n",
       "      <td>9.0</td>\n",
       "      <td>111</td>\n",
       "      <td>5000</td>\n",
       "      <td>21</td>\n",
       "      <td>27</td>\n",
       "      <td>16500.0</td>\n",
       "    </tr>\n",
       "    <tr>\n",
       "      <th>2</th>\n",
       "      <td>3</td>\n",
       "      <td>1</td>\n",
       "      <td>alfa-romero Quadrifoglio</td>\n",
       "      <td>1</td>\n",
       "      <td>0</td>\n",
       "      <td>0</td>\n",
       "      <td>1</td>\n",
       "      <td>1</td>\n",
       "      <td>0</td>\n",
       "      <td>94.5</td>\n",
       "      <td>...</td>\n",
       "      <td>152</td>\n",
       "      <td>mpfi</td>\n",
       "      <td>2.68</td>\n",
       "      <td>3.47</td>\n",
       "      <td>9.0</td>\n",
       "      <td>154</td>\n",
       "      <td>5000</td>\n",
       "      <td>19</td>\n",
       "      <td>26</td>\n",
       "      <td>16500.0</td>\n",
       "    </tr>\n",
       "    <tr>\n",
       "      <th>3</th>\n",
       "      <td>4</td>\n",
       "      <td>2</td>\n",
       "      <td>audi 100 ls</td>\n",
       "      <td>1</td>\n",
       "      <td>0</td>\n",
       "      <td>1</td>\n",
       "      <td>0</td>\n",
       "      <td>0</td>\n",
       "      <td>0</td>\n",
       "      <td>99.8</td>\n",
       "      <td>...</td>\n",
       "      <td>109</td>\n",
       "      <td>mpfi</td>\n",
       "      <td>3.19</td>\n",
       "      <td>3.40</td>\n",
       "      <td>10.0</td>\n",
       "      <td>102</td>\n",
       "      <td>5500</td>\n",
       "      <td>24</td>\n",
       "      <td>30</td>\n",
       "      <td>13950.0</td>\n",
       "    </tr>\n",
       "    <tr>\n",
       "      <th>4</th>\n",
       "      <td>5</td>\n",
       "      <td>2</td>\n",
       "      <td>audi 100ls</td>\n",
       "      <td>1</td>\n",
       "      <td>0</td>\n",
       "      <td>1</td>\n",
       "      <td>0</td>\n",
       "      <td>2</td>\n",
       "      <td>0</td>\n",
       "      <td>99.4</td>\n",
       "      <td>...</td>\n",
       "      <td>136</td>\n",
       "      <td>mpfi</td>\n",
       "      <td>3.19</td>\n",
       "      <td>3.40</td>\n",
       "      <td>8.0</td>\n",
       "      <td>115</td>\n",
       "      <td>5500</td>\n",
       "      <td>18</td>\n",
       "      <td>22</td>\n",
       "      <td>17450.0</td>\n",
       "    </tr>\n",
       "  </tbody>\n",
       "</table>\n",
       "<p>5 rows × 26 columns</p>\n",
       "</div>"
      ],
      "text/plain": [
       "   car_ID  symboling                   CarName  fueltype  aspiration  \\\n",
       "0       1          3        alfa-romero giulia         1           0   \n",
       "1       2          3       alfa-romero stelvio         1           0   \n",
       "2       3          1  alfa-romero Quadrifoglio         1           0   \n",
       "3       4          2               audi 100 ls         1           0   \n",
       "4       5          2                audi 100ls         1           0   \n",
       "\n",
       "   doornumber  carbody  drivewheel  enginelocation  wheelbase  ...  \\\n",
       "0           0        4           1               0       88.6  ...   \n",
       "1           0        4           1               0       88.6  ...   \n",
       "2           0        1           1               0       94.5  ...   \n",
       "3           1        0           0               0       99.8  ...   \n",
       "4           1        0           2               0       99.4  ...   \n",
       "\n",
       "   enginesize  fuelsystem  boreratio  stroke compressionratio horsepower  \\\n",
       "0         130        mpfi       3.47    2.68              9.0        111   \n",
       "1         130        mpfi       3.47    2.68              9.0        111   \n",
       "2         152        mpfi       2.68    3.47              9.0        154   \n",
       "3         109        mpfi       3.19    3.40             10.0        102   \n",
       "4         136        mpfi       3.19    3.40              8.0        115   \n",
       "\n",
       "   peakrpm citympg  highwaympg    price  \n",
       "0     5000      21          27  13495.0  \n",
       "1     5000      21          27  16500.0  \n",
       "2     5000      19          26  16500.0  \n",
       "3     5500      24          30  13950.0  \n",
       "4     5500      18          22  17450.0  \n",
       "\n",
       "[5 rows x 26 columns]"
      ]
     },
     "execution_count": 76,
     "metadata": {},
     "output_type": "execute_result"
    }
   ],
   "source": [
    "car_dataset.head()"
   ]
  },
  {
   "cell_type": "code",
   "execution_count": 79,
   "id": "2d077cae",
   "metadata": {},
   "outputs": [
    {
     "data": {
      "text/plain": [
       "LinearRegression()"
      ]
     },
     "execution_count": 79,
     "metadata": {},
     "output_type": "execute_result"
    }
   ],
   "source": [
    "lin_reg.fit(x_train,y_train)"
   ]
  },
  {
   "cell_type": "code",
   "execution_count": 80,
   "id": "3d853553",
   "metadata": {},
   "outputs": [],
   "source": [
    "#predection on traing daata\n",
    "train_data=lin_reg.predict(x_train)"
   ]
  },
  {
   "cell_type": "code",
   "execution_count": 81,
   "id": "455249d0",
   "metadata": {},
   "outputs": [],
   "source": [
    "car_dataSet=car_dataset.drop(['fuelsystem'],axis=1)"
   ]
  },
  {
   "cell_type": "code",
   "execution_count": 82,
   "id": "15d222ad",
   "metadata": {},
   "outputs": [],
   "source": [
    "car_dataSset=car_dataSet.drop(['enginetype','cylindernumber'],axis=1)"
   ]
  },
  {
   "cell_type": "code",
   "execution_count": 68,
   "id": "77a9e725",
   "metadata": {},
   "outputs": [
    {
     "name": "stdout",
     "output_type": "stream",
     "text": [
      "     car_ID  symboling                   CarName  fueltype  aspiration  \\\n",
      "0         1          3        alfa-romero giulia         1           0   \n",
      "1         2          3       alfa-romero stelvio         1           0   \n",
      "2         3          1  alfa-romero Quadrifoglio         1           0   \n",
      "3         4          2               audi 100 ls         1           0   \n",
      "4         5          2                audi 100ls         1           0   \n",
      "..      ...        ...                       ...       ...         ...   \n",
      "200     201         -1           volvo 145e (sw)         1           0   \n",
      "201     202         -1               volvo 144ea         1           1   \n",
      "202     203         -1               volvo 244dl         1           0   \n",
      "203     204         -1                 volvo 246         0           1   \n",
      "204     205         -1               volvo 264gl         1           1   \n",
      "\n",
      "     doornumber  carbody  drivewheel  enginelocation  wheelbase  ...  \\\n",
      "0             0        4           1               0       88.6  ...   \n",
      "1             0        4           1               0       88.6  ...   \n",
      "2             0        1           1               0       94.5  ...   \n",
      "3             1        0           0               0       99.8  ...   \n",
      "4             1        0           2               0       99.4  ...   \n",
      "..          ...      ...         ...             ...        ...  ...   \n",
      "200           1        0           1               0      109.1  ...   \n",
      "201           1        0           1               0      109.1  ...   \n",
      "202           1        0           1               0      109.1  ...   \n",
      "203           1        0           1               0      109.1  ...   \n",
      "204           1        0           1               0      109.1  ...   \n",
      "\n",
      "     curbweight  enginesize  boreratio  stroke  compressionratio  horsepower  \\\n",
      "0          2548         130       3.47    2.68               9.0         111   \n",
      "1          2548         130       3.47    2.68               9.0         111   \n",
      "2          2823         152       2.68    3.47               9.0         154   \n",
      "3          2337         109       3.19    3.40              10.0         102   \n",
      "4          2824         136       3.19    3.40               8.0         115   \n",
      "..          ...         ...        ...     ...               ...         ...   \n",
      "200        2952         141       3.78    3.15               9.5         114   \n",
      "201        3049         141       3.78    3.15               8.7         160   \n",
      "202        3012         173       3.58    2.87               8.8         134   \n",
      "203        3217         145       3.01    3.40              23.0         106   \n",
      "204        3062         141       3.78    3.15               9.5         114   \n",
      "\n",
      "     peakrpm  citympg  highwaympg    price  \n",
      "0       5000       21          27  13495.0  \n",
      "1       5000       21          27  16500.0  \n",
      "2       5000       19          26  16500.0  \n",
      "3       5500       24          30  13950.0  \n",
      "4       5500       18          22  17450.0  \n",
      "..       ...      ...         ...      ...  \n",
      "200     5400       23          28  16845.0  \n",
      "201     5300       19          25  19045.0  \n",
      "202     5500       18          23  21485.0  \n",
      "203     4800       26          27  22470.0  \n",
      "204     5400       19          25  22625.0  \n",
      "\n",
      "[205 rows x 23 columns]\n"
     ]
    }
   ],
   "source": [
    "print(car_dataSset)"
   ]
  },
  {
   "cell_type": "code",
   "execution_count": 85,
   "id": "612953f5",
   "metadata": {},
   "outputs": [
    {
     "name": "stdout",
     "output_type": "stream",
     "text": [
      "R error score is: 1.0\n"
     ]
    }
   ],
   "source": [
    "#r error score\n",
    "error_score=metrics.r2_score(y_train,train_data)\n",
    "print(\"R error score is:\",error_score)"
   ]
  },
  {
   "cell_type": "code",
   "execution_count": 86,
   "id": "5a22ae8b",
   "metadata": {},
   "outputs": [],
   "source": [
    "#Visualize the actual price and predected price"
   ]
  },
  {
   "cell_type": "code",
   "execution_count": 89,
   "id": "4ddfaf39",
   "metadata": {},
   "outputs": [
    {
     "data": {
      "image/png": "[encoded data removed]",
      "text/plain": [
       "<Figure size 432x288 with 1 Axes>"
      ]
     },
     "metadata": {
      "needs_background": "light"
     },
     "output_type": "display_data"
    }
   ],
   "source": [
    "plt.scatter(y_train,train_data)\n",
    "plt.xlabel(\"actual price\")\n",
    "plt.ylabel(\"predicted price\")\n",
    "plt.title(\"actual price vs predicted price\")\n",
    "plt.show()"
   ]
  },
  {
   "cell_type": "code",
   "execution_count": 90,
   "id": "6b446f83",
   "metadata": {},
   "outputs": [],
   "source": [
    "#predection on traing daata\n",
    "testdata=lin_reg.predict(x_test)"
   ]
  },
  {
   "cell_type": "code",
   "execution_count": 92,
   "id": "b3d30197",
   "metadata": {},
   "outputs": [
    {
     "name": "stdout",
     "output_type": "stream",
     "text": [
      "R error score is: -5.662262536394428\n"
     ]
    }
   ],
   "source": [
    "#r error score\n",
    "error_score=metrics.r2_score(y_test,testdata)\n",
    "print(\"R error score is:\",error_score)"
   ]
  },
  {
   "cell_type": "code",
   "execution_count": 93,
   "id": "bb0bfbff",
   "metadata": {},
   "outputs": [
    {
     "data": {
      "image/png": "[encoded data removed]",
      "text/plain": [
       "<Figure size 432x288 with 1 Axes>"
      ]
     },
     "metadata": {
      "needs_background": "light"
     },
     "output_type": "display_data"
    }
   ],
   "source": [
    "plt.scatter(y_test,testdata)\n",
    "plt.xlabel(\"actual price\")\n",
    "plt.ylabel(\"predicted price\")\n",
    "plt.title(\"actual price vs predicted price\")\n",
    "plt.show()"
   ]
  },
  {
   "cell_type": "code",
   "execution_count": 108,
   "id": "b0e354ab",
   "metadata": {},
   "outputs": [],
   "source": [
    "#loading lasso regression\n",
    "lass_reg=Lasso()"
   ]
  },
  {
   "cell_type": "code",
   "execution_count": 109,
   "id": "ddeaaef8",
   "metadata": {},
   "outputs": [
    {
     "name": "stderr",
     "output_type": "stream",
     "text": [
      "C:\\Users\\Darshan C S\\anaconda3\\lib\\site-packages\\sklearn\\linear_model\\_coordinate_descent.py:647: ConvergenceWarning: Objective did not converge. You might want to increase the number of iterations, check the scale of the features or consider increasing regularisation. Duality gap: 1.468e+06, tolerance: 9.190e+04\n",
      "  model = cd_fast.enet_coordinate_descent(\n"
     ]
    },
    {
     "data": {
      "text/plain": [
       "Lasso()"
      ]
     },
     "execution_count": 109,
     "metadata": {},
     "output_type": "execute_result"
    }
   ],
   "source": [
    "lass_reg.fit(x_train,y_train)"
   ]
  },
  {
   "cell_type": "code",
   "execution_count": 110,
   "id": "ac3e83e1",
   "metadata": {},
   "outputs": [],
   "source": [
    "#predection on traing daata\n",
    "train_data=lass_reg.predict(x_train)"
   ]
  },
  {
   "cell_type": "code",
   "execution_count": 111,
   "id": "7facbe61",
   "metadata": {},
   "outputs": [
    {
     "name": "stdout",
     "output_type": "stream",
     "text": [
      "R error score is: 0.998155947512111\n"
     ]
    }
   ],
   "source": [
    "#r error score\n",
    "error_score=metrics.r2_score(y_train,train_data)\n",
    "print(\"R error score is:\",error_score)"
   ]
  },
  {
   "cell_type": "code",
   "execution_count": 113,
   "id": "9f3029df",
   "metadata": {},
   "outputs": [
    {
     "data": {
      "image/png": "[encoded data removed]",
      "text/plain": [
       "<Figure size 432x288 with 1 Axes>"
      ]
     },
     "metadata": {
      "needs_background": "light"
     },
     "output_type": "display_data"
    }
   ],
   "source": [
    "plt.scatter(y_train,train_data)\n",
    "plt.xlabel(\"actual price\")\n",
    "plt.ylabel(\"predicted price\")\n",
    "plt.title(\"actual price vs predicted price\")\n",
    "plt.show()"
   ]
  },
  {
   "cell_type": "code",
   "execution_count": null,
   "id": "890c7d53",
   "metadata": {},
   "outputs": [],
   "source": []
  }
 ],
 "metadata": {
  "kernelspec": {
   "display_name": "Python 3 (ipykernel)",
   "language": "python",
   "name": "python3"
  },
  "language_info": {
   "codemirror_mode": {
    "name": "ipython",
    "version": 3
   },
   "file_extension": ".py",
   "mimetype": "text/x-python",
   "name": "python",
   "nbconvert_exporter": "python",
   "pygments_lexer": "ipython3",
   "version": "3.9.12"
  }
 },
 "nbformat": 4,
 "nbformat_minor": 5
}
